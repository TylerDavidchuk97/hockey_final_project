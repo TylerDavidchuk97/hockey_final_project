{
 "cells": [
  {
   "cell_type": "code",
   "execution_count": 17,
   "metadata": {},
   "outputs": [],
   "source": [
    "#imports\n",
    "import matplotlib.pyplot as plt\n",
    "import numpy as np\n",
    "import pandas as pd\n",
    "import seaborn as sns\n",
    "\n",
    "#read in the dataset we scraped from Elite Prospects\n",
    "df = pd.read_csv('../hockey_final_project/hockey_data.csv')\n",
    "\n",
    "#when we created the dataframe saved it and now loaded it back in, a new index was asigned to the df which is fine\n",
    "#we will the old index as well as the player category as the information is already in seperate columns (playername and position)\n",
    "df.drop(['Unnamed: 0', 'player'], axis=1, inplace=True)\n",
    "\n",
    "#looking at the data every name in the dataset has a trailing whitespace which is extremely annoying to deal with so we'll fix that\n",
    "df['playername'] = df['playername'].str.strip()\n",
    "\n",
    "#convert our column with numeric data to actual numbers instead of objects so we can preform calculations on them\n",
    "df[['gp', 'g', 'a', 'tp', 'ppg', 'pim', '+/-']] = df[['gp', 'g', 'a', 'tp', 'ppg', 'pim', '+/-']].apply(pd.to_numeric, errors='coerce')\n",
    "\n",
    "#fill all nans with 0s as the data is still important these players potentially are ltir types of players or they never actually played but were listed as avaliable\n",
    "df.fillna(0, inplace=True)\n",
    "\n",
    "#now going to convert columns that should be ints back to int as all column where converted to doubles\n",
    "df[['gp', 'g', 'a', 'tp', 'pim', '+/-']] = df[['gp', 'g', 'a', 'tp', 'pim', '+/-']].astype(int)\n",
    "\n",
    "#create new column for goals per game, assists per game, penalty minutes per game and plus minus per game to better classify what type of player the individual is\n",
    "#a player with a significantly higher goals per game than as assists per game would make that player a better scorer or more efficient\n",
    "#using per game averages is significantly better than raw totals as a player who is elite maybe have had a season ending injury half way through the season\n",
    "#pro rating stats is common for the analytics communities\n",
    "df['gpg'] =  df.g/df.gp.replace({0 : np.inf})\n",
    "df['apg'] =  df.a/df.gp.replace({0 : np.inf})\n",
    "df['pmpg'] =  df.pim/df.gp.replace({0 : np.inf})\n",
    "df['+/-pg'] =  df['+/-']/df.gp.replace({0 : np.inf})\n",
    "\n",
    "\n",
    "#this code will create train and test splits for the data which utilizes sample from pandas\n",
    "#this runs faster than using np rand\n",
    "#80 percent train, 10 percentish validation and 10 percentish test\n",
    "#UNCOMMENT THESE FOUR LINES BELLOW TO CREATE SPLITS FOR MODEL WHEN READY!!!!!!!!!!!!!!!!!!!!!!!!!!!!!!!!!!!!!!!!!!!!!!!!!!!!!!!!!!!!!!!!!!!!!!!!!!!!!!!!!!!!!!!!!!!!!!!!!!!!!!!!!!!!!!!!!!!!!\n",
    "#train = df.sample(frac=0.9, random_state=100)\n",
    "#valid = train.sample(frac=0.1, random_state=100)\n",
    "#train = train.drop(valid.index)\n",
    "#est = df.drop(train.index).drop(valid.index)\n",
    "\n",
    "#df.loc[df['playername']=='Sidney Crosby']"
   ]
  },
  {
   "cell_type": "code",
   "execution_count": null,
   "metadata": {},
   "outputs": [],
   "source": []
  }
 ],
 "metadata": {
  "interpreter": {
   "hash": "7f4212983ce6a7c8e642fe9a59bcdf23c7c2424b2465337e3c59d6138324f9b9"
  },
  "kernelspec": {
   "display_name": "Python 3.8.8 ('base')",
   "language": "python",
   "name": "python3"
  },
  "language_info": {
   "codemirror_mode": {
    "name": "ipython",
    "version": 3
   },
   "file_extension": ".py",
   "mimetype": "text/x-python",
   "name": "python",
   "nbconvert_exporter": "python",
   "pygments_lexer": "ipython3",
   "version": "3.8.8"
  },
  "orig_nbformat": 4
 },
 "nbformat": 4,
 "nbformat_minor": 2
}
